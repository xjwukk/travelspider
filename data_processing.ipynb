{
 "cells": [
  {
   "cell_type": "code",
   "execution_count": 33,
   "id": "5e00b41e-c5f4-480f-ac25-967ece037ef1",
   "metadata": {},
   "outputs": [
    {
     "name": "stdout",
     "output_type": "stream",
     "text": [
      "<class 'pandas.core.frame.DataFrame'>\n",
      "RangeIndex: 3980 entries, 0 to 3979\n",
      "Data columns (total 3 columns):\n",
      " #   Column  Non-Null Count  Dtype \n",
      "---  ------  --------------  ----- \n",
      " 0   景点名称    3980 non-null   object\n",
      " 1   评分      3980 non-null   int64 \n",
      " 2   评论数     3980 non-null   int64 \n",
      "dtypes: int64(2), object(1)\n",
      "memory usage: 93.4+ KB\n"
     ]
    },
    {
     "data": {
      "text/html": [
       "<div>\n",
       "<style scoped>\n",
       "    .dataframe tbody tr th:only-of-type {\n",
       "        vertical-align: middle;\n",
       "    }\n",
       "\n",
       "    .dataframe tbody tr th {\n",
       "        vertical-align: top;\n",
       "    }\n",
       "\n",
       "    .dataframe thead th {\n",
       "        text-align: right;\n",
       "    }\n",
       "</style>\n",
       "<table border=\"1\" class=\"dataframe\">\n",
       "  <thead>\n",
       "    <tr style=\"text-align: right;\">\n",
       "      <th></th>\n",
       "      <th>评分</th>\n",
       "      <th>评论数</th>\n",
       "    </tr>\n",
       "  </thead>\n",
       "  <tbody>\n",
       "    <tr>\n",
       "      <th>count</th>\n",
       "      <td>3980.000000</td>\n",
       "      <td>3980.000000</td>\n",
       "    </tr>\n",
       "    <tr>\n",
       "      <th>mean</th>\n",
       "      <td>9.541206</td>\n",
       "      <td>30.114824</td>\n",
       "    </tr>\n",
       "    <tr>\n",
       "      <th>std</th>\n",
       "      <td>27.728471</td>\n",
       "      <td>305.982554</td>\n",
       "    </tr>\n",
       "    <tr>\n",
       "      <th>min</th>\n",
       "      <td>0.000000</td>\n",
       "      <td>0.000000</td>\n",
       "    </tr>\n",
       "    <tr>\n",
       "      <th>25%</th>\n",
       "      <td>0.000000</td>\n",
       "      <td>0.000000</td>\n",
       "    </tr>\n",
       "    <tr>\n",
       "      <th>50%</th>\n",
       "      <td>0.000000</td>\n",
       "      <td>0.000000</td>\n",
       "    </tr>\n",
       "    <tr>\n",
       "      <th>75%</th>\n",
       "      <td>0.000000</td>\n",
       "      <td>0.000000</td>\n",
       "    </tr>\n",
       "    <tr>\n",
       "      <th>max</th>\n",
       "      <td>100.000000</td>\n",
       "      <td>11530.000000</td>\n",
       "    </tr>\n",
       "  </tbody>\n",
       "</table>\n",
       "</div>"
      ],
      "text/plain": [
       "                评分           评论数\n",
       "count  3980.000000   3980.000000\n",
       "mean      9.541206     30.114824\n",
       "std      27.728471    305.982554\n",
       "min       0.000000      0.000000\n",
       "25%       0.000000      0.000000\n",
       "50%       0.000000      0.000000\n",
       "75%       0.000000      0.000000\n",
       "max     100.000000  11530.000000"
      ]
     },
     "execution_count": 33,
     "metadata": {},
     "output_type": "execute_result"
    }
   ],
   "source": [
    "import pandas as pd\n",
    "df = pd.read_excel('data.xlsx')\n",
    "df.info()\n",
    "df.describe()"
   ]
  },
  {
   "cell_type": "code",
   "execution_count": 35,
   "id": "d003c43d-9e31-4fe7-99a3-dcb33901a0f6",
   "metadata": {},
   "outputs": [
    {
     "data": {
      "text/html": [
       "<div>\n",
       "<style scoped>\n",
       "    .dataframe tbody tr th:only-of-type {\n",
       "        vertical-align: middle;\n",
       "    }\n",
       "\n",
       "    .dataframe tbody tr th {\n",
       "        vertical-align: top;\n",
       "    }\n",
       "\n",
       "    .dataframe thead th {\n",
       "        text-align: right;\n",
       "    }\n",
       "</style>\n",
       "<table border=\"1\" class=\"dataframe\">\n",
       "  <thead>\n",
       "    <tr style=\"text-align: right;\">\n",
       "      <th></th>\n",
       "      <th>评分</th>\n",
       "      <th>评论数</th>\n",
       "    </tr>\n",
       "  </thead>\n",
       "  <tbody>\n",
       "    <tr>\n",
       "      <th>count</th>\n",
       "      <td>115.000000</td>\n",
       "      <td>115.000000</td>\n",
       "    </tr>\n",
       "    <tr>\n",
       "      <th>mean</th>\n",
       "      <td>89.182609</td>\n",
       "      <td>615.495652</td>\n",
       "    </tr>\n",
       "    <tr>\n",
       "      <th>std</th>\n",
       "      <td>3.865236</td>\n",
       "      <td>1462.989366</td>\n",
       "    </tr>\n",
       "    <tr>\n",
       "      <th>min</th>\n",
       "      <td>78.000000</td>\n",
       "      <td>51.000000</td>\n",
       "    </tr>\n",
       "    <tr>\n",
       "      <th>25%</th>\n",
       "      <td>88.000000</td>\n",
       "      <td>91.500000</td>\n",
       "    </tr>\n",
       "    <tr>\n",
       "      <th>50%</th>\n",
       "      <td>90.000000</td>\n",
       "      <td>181.000000</td>\n",
       "    </tr>\n",
       "    <tr>\n",
       "      <th>75%</th>\n",
       "      <td>92.000000</td>\n",
       "      <td>487.500000</td>\n",
       "    </tr>\n",
       "    <tr>\n",
       "      <th>max</th>\n",
       "      <td>96.000000</td>\n",
       "      <td>11530.000000</td>\n",
       "    </tr>\n",
       "  </tbody>\n",
       "</table>\n",
       "</div>"
      ],
      "text/plain": [
       "               评分           评论数\n",
       "count  115.000000    115.000000\n",
       "mean    89.182609    615.495652\n",
       "std      3.865236   1462.989366\n",
       "min     78.000000     51.000000\n",
       "25%     88.000000     91.500000\n",
       "50%     90.000000    181.000000\n",
       "75%     92.000000    487.500000\n",
       "max     96.000000  11530.000000"
      ]
     },
     "execution_count": 35,
     "metadata": {},
     "output_type": "execute_result"
    }
   ],
   "source": [
    "df.drop(df[df[\"评论数\"]<=50].index,axis=0,inplace=True)\n",
    "df.drop_duplicates(inplace=True)\n",
    "df.describe()"
   ]
  },
  {
   "cell_type": "code",
   "execution_count": 36,
   "id": "dc026263-f97e-4fbd-97ad-215ca85f4d72",
   "metadata": {},
   "outputs": [
    {
     "name": "stdout",
     "output_type": "stream",
     "text": [
      "                                                  景点名称  评分   评论数\n",
      "103                           西南大学Southwest University  96   103\n",
      "125                            万州大瀑布Wanzhou Greatfalls  96  1893\n",
      "68                                     瞿塘峡Qutang Gorge  94   188\n",
      "13                         武隆天生三桥Three Natural Bridges  94  5116\n",
      "48                                  重庆动物园Chongqing Zoo  94   560\n",
      "61                            重庆大学Chongqing University  94   158\n",
      "63          红岩革命纪念馆Hongyan Revolutionary Memorial Hall  94    98\n",
      "69                                          巫峡Wu Gorge  94   154\n",
      "20   云阳龙缸国家地质公园Yunyang Longgang National Geological...  94   653\n",
      "101                    重庆园博园Chongqing Garden Expo Park  94   735\n",
      "93   西南政法大学Southwest University of Political Scienc...  94    53\n",
      "239                       神女峰The Goddess (Shennv) Peak  94   104\n",
      "9                                千厮门大桥Qiansimen Bridge  94   134\n",
      "148                 菜园坝长江大桥Caiyuanba Changjiang Bridge  94    67\n",
      "168                             重庆图书馆Chongqing Library  94    59\n",
      "126                                     碧津公园Bijin Park  92   197\n",
      "155                                   宝轮寺Baolun Temple  92    97\n",
      "51   武隆喀斯特旅游区Wulong Tiankeng Land Slot National Geo...  92  1005\n",
      "56                    歌乐山烈士陵园Geleshan Martyrs Cemetery  92   137\n",
      "60                                      芙蓉洞Furong Cave  92   659\n"
     ]
    }
   ],
   "source": [
    "sorted_df = df.sort_values(by='评分', ascending=False)\n",
    "top_20 = sorted_df.head(20)\n",
    "print(top_20)"
   ]
  },
  {
   "cell_type": "code",
   "execution_count": 29,
   "id": "86b79acc-ed22-4d9e-b2a3-e6112dfc4a46",
   "metadata": {},
   "outputs": [
    {
     "name": "stdout",
     "output_type": "stream",
     "text": [
      "                                                  景点名称  评分   评论数\n",
      "75              黄水国家森林公园Huangshui National Forest Park  86    65\n",
      "162  两江国际影视城（民国街）Liangjiang International Film City...  84   273\n",
      "31                                皇冠大扶梯Crown Escalator  84   419\n",
      "87                              朝天门码头Chaotianmen Wharf  84    93\n",
      "113                                   金刀峡Jindao Canyon  84   404\n",
      "27                             汉海海洋公园Hanhai Ocean Park  84   198\n",
      "22                                          十八梯Shibati  84   130\n",
      "131                                 东温泉Dong Hot Spring  84    51\n",
      "154     重庆千野草场景区Chongqing Qianye Grassland Scenic Spot  82   102\n",
      "46                          长江索道Yangtze River Cableway  82  3676\n",
      "166                         南天湖景区Nantianhu Scenic Area  82    52\n",
      "79                                 洋人街Foreigner Street  82   596\n",
      "112                           偏岩古镇Pianyan Ancient Town  82    51\n",
      "111                 茶山竹海Tea Mountain and Bamboo Forest  82   379\n",
      "116                       小南海Chongqing Small South Sea  82   150\n",
      "50                              蚩尤九黎城Chiyou Jiuli City  80    77\n",
      "100                         长寿古镇Changshou Ancient Town  80   212\n",
      "77                                      阿依河景区Ayi River  80   225\n",
      "134                                 大木花谷Damuhua Valley  80    82\n",
      "29                               安居古城Anju ancient city  78   155\n"
     ]
    }
   ],
   "source": [
    "end_20 = sorted_df.tail(20)\n",
    "print(end_20)"
   ]
  },
  {
   "cell_type": "code",
   "execution_count": 31,
   "id": "b33b155c-4160-41e9-a734-ac2544105f9a",
   "metadata": {},
   "outputs": [
    {
     "name": "stdout",
     "output_type": "stream",
     "text": [
      "                                                  景点名称  评分    评论数\n",
      "6                            磁器口古镇Ciqikou Ancient Town  88  11530\n",
      "0                 洪崖洞民俗风貌区Hongyadong Commercial Street  92   7113\n",
      "13                         武隆天生三桥Three Natural Bridges  94   5116\n",
      "64                                                  武隆  90   5048\n",
      "46                          长江索道Yangtze River Cableway  82   3676\n",
      "2                                     解放碑步行街Jiefangbei  92   3659\n",
      "125                            万州大瀑布Wanzhou Greatfalls  96   1893\n",
      "10                               大足石刻Dazu Rock Carving  92   1599\n",
      "78             黑山谷风景区Black Mountain Valley Scenic Area  90   1555\n",
      "33                                 龙水峡地缝Longshui Gorge  92   1432\n",
      "55        仙女山国家森林公园Fairy Mountain National Forest Park  90   1364\n",
      "7                              朝天门广场Chaotianmen Square  88   1324\n",
      "51   武隆喀斯特旅游区Wulong Tiankeng Land Slot National Geo...  92   1005\n",
      "37               南山一棵树观景台Nanshan Tree Viewing Platform  88    810\n",
      "73                            三峡博物馆Three Gorges Museum  92    785\n"
     ]
    }
   ],
   "source": [
    "comment_num = df.sort_values(by ='评论数',ascending=False)\n",
    "top_15=comment_num.head(15)\n",
    "print(top_15)"
   ]
  },
  {
   "cell_type": "code",
   "execution_count": null,
   "id": "7a7c9220-a188-4451-a234-32a7bc5627f1",
   "metadata": {},
   "outputs": [],
   "source": []
  }
 ],
 "metadata": {
  "kernelspec": {
   "display_name": "Python 3 (ipykernel)",
   "language": "python",
   "name": "python3"
  },
  "language_info": {
   "codemirror_mode": {
    "name": "ipython",
    "version": 3
   },
   "file_extension": ".py",
   "mimetype": "text/x-python",
   "name": "python",
   "nbconvert_exporter": "python",
   "pygments_lexer": "ipython3",
   "version": "3.12.4"
  }
 },
 "nbformat": 4,
 "nbformat_minor": 5
}
